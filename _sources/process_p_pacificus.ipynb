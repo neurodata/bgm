{
 "cells": [
  {
   "cell_type": "markdown",
   "id": "c58e205c",
   "metadata": {
    "lines_to_next_cell": 0
   },
   "source": [
    "# *P. pacificus* pharynx connectomes"
   ]
  },
  {
   "cell_type": "code",
   "execution_count": 1,
   "id": "8cb72b7e",
   "metadata": {
    "execution": {
     "iopub.execute_input": "2022-05-13T17:34:07.054401Z",
     "iopub.status.busy": "2022-05-13T17:34:07.054194Z",
     "iopub.status.idle": "2022-05-13T17:34:11.704675Z",
     "shell.execute_reply": "2022-05-13T17:34:11.703966Z"
    },
    "lines_to_next_cell": 2,
    "tags": [
     "hide-input"
    ]
   },
   "outputs": [],
   "source": [
    "import datetime\n",
    "import time\n",
    "\n",
    "import networkx as nx\n",
    "import pandas as pd\n",
    "from graspologic.plot import adjplot\n",
    "from pkg.data import DATA_PATH\n",
    "from pkg.utils import create_node_data, ensure_connected, select_lateral_nodes\n",
    "\n",
    "OUT_PATH = DATA_PATH / \"processed_split\"\n",
    "\n",
    "t0 = time.time()"
   ]
  },
  {
   "cell_type": "markdown",
   "id": "be65f3b7",
   "metadata": {},
   "source": [
    "## Filter data\n",
    "Make sure neurons are lateralized and fully connected"
   ]
  },
  {
   "cell_type": "code",
   "execution_count": 2,
   "id": "1d320940",
   "metadata": {
    "execution": {
     "iopub.execute_input": "2022-05-13T17:34:11.708443Z",
     "iopub.status.busy": "2022-05-13T17:34:11.708066Z",
     "iopub.status.idle": "2022-05-13T17:34:11.937256Z",
     "shell.execute_reply": "2022-05-13T17:34:11.936704Z"
    },
    "tags": [
     "hide-input"
    ]
   },
   "outputs": [
    {
     "data": {
      "image/png": "[encoded data removed]",
      "text/plain": [
       "<Figure size 720x720 with 1 Axes>"
      ]
     },
     "metadata": {},
     "output_type": "display_data"
    },
    {
     "data": {
      "image/png": "[encoded data removed]",
      "text/plain": [
       "<Figure size 720x720 with 1 Axes>"
      ]
     },
     "metadata": {},
     "output_type": "display_data"
    }
   ],
   "source": [
    "for specimen in [\"107\", \"148\"]:\n",
    "    path = DATA_PATH / \"p_pacificus\"\n",
    "    path = path / f\"specimen_{specimen}_synapselist.csv\"\n",
    "    mg = nx.read_edgelist(path, create_using=nx.MultiDiGraph, delimiter=\",\")\n",
    "    # HACK for weighting by synapse count\n",
    "    adj_df = nx.to_pandas_adjacency(mg)\n",
    "\n",
    "    g = nx.from_pandas_adjacency(adj_df, create_using=nx.DiGraph)\n",
    "    adj_df = nx.to_pandas_adjacency(g)\n",
    "\n",
    "    adj_df = pd.DataFrame(\n",
    "        data=adj_df.values.astype(int), index=adj_df.index, columns=adj_df.columns\n",
    "    )\n",
    "    nodes = create_node_data(list(g.nodes))\n",
    "    adj_df = adj_df.reindex(index=nodes.index, columns=nodes.index)\n",
    "\n",
    "    # get rid of any nodes which don't have a side designation\n",
    "    adj_df, nodes, removed_nonlateral = select_lateral_nodes(adj_df, nodes)\n",
    "    # then ensure the network is fully connected\n",
    "    adj_df, nodes, removed_lcc = ensure_connected(adj_df, nodes)\n",
    "    # then remove any nodes whose partner got removed by that process\n",
    "    adj_df, nodes, removed_partner_lcc = select_lateral_nodes(adj_df, nodes)\n",
    "    # REPEAT in case this removal of partners causes disconnection\n",
    "    adj_df, nodes, removed_lcc2 = ensure_connected(adj_df, nodes)\n",
    "    adj_df, nodes, removed_partner_lcc2 = select_lateral_nodes(adj_df, nodes)\n",
    "\n",
    "    adjplot(adj_df.values, plot_type=\"heatmap\")\n",
    "\n",
    "    g = nx.from_pandas_adjacency(adj_df, create_using=nx.DiGraph)\n",
    "    nx.write_edgelist(\n",
    "        g,\n",
    "        OUT_PATH / f\"specimen_{specimen}_edgelist.csv\",\n",
    "        delimiter=\",\",\n",
    "        data=[\"weight\"],\n",
    "    )\n",
    "\n",
    "    nodes.to_csv(OUT_PATH / f\"specimen_{specimen}_nodes.csv\")"
   ]
  },
  {
   "cell_type": "markdown",
   "id": "c69ce5f8",
   "metadata": {
    "lines_to_next_cell": 0
   },
   "source": [
    "## End"
   ]
  },
  {
   "cell_type": "code",
   "execution_count": 3,
   "id": "bb99e99e",
   "metadata": {
    "execution": {
     "iopub.execute_input": "2022-05-13T17:34:11.940409Z",
     "iopub.status.busy": "2022-05-13T17:34:11.940191Z",
     "iopub.status.idle": "2022-05-13T17:34:11.977584Z",
     "shell.execute_reply": "2022-05-13T17:34:11.976975Z"
    },
    "tags": [
     "hide-input"
    ]
   },
   "outputs": [
    {
     "name": "stdout",
     "output_type": "stream",
     "text": [
      "Script took 0:00:00.293497\n",
      "Completed at 2022-05-13 13:34:11.975156\n"
     ]
    }
   ],
   "source": [
    "elapsed = time.time() - t0\n",
    "delta = datetime.timedelta(seconds=elapsed)\n",
    "print(f\"Script took {delta}\")\n",
    "print(f\"Completed at {datetime.datetime.now()}\")"
   ]
  }
 ],
 "metadata": {
  "jupytext": {
   "cell_metadata_filter": "-all",
   "main_language": "python",
   "notebook_metadata_filter": "-all"
  },
  "language_info": {
   "codemirror_mode": {
    "name": "ipython",
    "version": 3
   },
   "file_extension": ".py",
   "mimetype": "text/x-python",
   "name": "python",
   "nbconvert_exporter": "python",
   "pygments_lexer": "ipython3",
   "version": "3.9.7"
  }
 },
 "nbformat": 4,
 "nbformat_minor": 5
}
