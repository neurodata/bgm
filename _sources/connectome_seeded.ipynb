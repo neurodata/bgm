{
 "cells": [
  {
   "cell_type": "markdown",
   "id": "0ec4b734",
   "metadata": {
    "lines_to_next_cell": 0
   },
   "source": [
    "# Maggot connectome subset with seeds"
   ]
  },
  {
   "cell_type": "code",
   "execution_count": null,
   "id": "6bb3e12f",
   "metadata": {
    "tags": [
     "hide-input"
    ]
   },
   "outputs": [],
   "source": [
    "import datetime\n",
    "import time\n",
    "\n",
    "import matplotlib.pyplot as plt\n",
    "import numpy as np\n",
    "import pandas as pd\n",
    "import seaborn as sns\n",
    "from graspologic.match import graph_match\n",
    "from matplotlib.lines import Line2D\n",
    "from matplotlib.transforms import blended_transform_factory\n",
    "from pkg.data import load_semipaired_connectome\n",
    "from pkg.io import OUT_PATH\n",
    "from pkg.io import glue as default_glue\n",
    "from pkg.io import savefig\n",
    "from pkg.plot import (\n",
    "    dashes,\n",
    "    method_palette,\n",
    "    rgb2hex,\n",
    "    set_theme,\n",
    "    simple_plot_neurons,\n",
    "    subgraph_palette,\n",
    ")\n",
    "from scipy.optimize import linear_sum_assignment\n",
    "from scipy.stats import wilcoxon\n",
    "from sklearn.model_selection import KFold\n",
    "from tqdm.autonotebook import tqdm\n",
    "\n",
    "FILENAME = \"connectome_seeded\"\n",
    "\n",
    "DISPLAY_FIGS = True\n",
    "\n",
    "OUT_PATH = OUT_PATH / FILENAME\n",
    "\n",
    "\n",
    "def glue(name, var, **kwargs):\n",
    "    default_glue(name, var, FILENAME, **kwargs)\n",
    "\n",
    "\n",
    "def gluefig(name, fig, **kwargs):\n",
    "    savefig(name, foldername=FILENAME, **kwargs)\n",
    "\n",
    "    glue(name, fig, figure=True)\n",
    "\n",
    "    if not DISPLAY_FIGS:\n",
    "        plt.close()\n",
    "\n",
    "\n",
    "t0 = time.time()\n",
    "set_theme()\n",
    "rng = np.random.default_rng(8888)"
   ]
  },
  {
   "cell_type": "code",
   "execution_count": null,
   "id": "85d82e23",
   "metadata": {
    "tags": [
     "hide-input"
    ]
   },
   "outputs": [],
   "source": [
    "\n",
    "adj, nodes = load_semipaired_connectome(\"maggot_subset\")\n",
    "adj_df = pd.DataFrame(data=adj, index=nodes.index, columns=nodes.index)"
   ]
  },
  {
   "cell_type": "code",
   "execution_count": null,
   "id": "810a5be4",
   "metadata": {
    "tags": [
     "hide-input"
    ]
   },
   "outputs": [],
   "source": [
    "left_nodes = nodes[nodes[\"hemisphere\"] == \"L\"]\n",
    "right_nodes = nodes[nodes[\"hemisphere\"] == \"R\"]\n",
    "\n",
    "left_node_ids = left_nodes.index\n",
    "right_node_ids = right_nodes.index\n",
    "\n",
    "ll_adj = adj_df.reindex(index=left_node_ids, columns=left_node_ids).values\n",
    "rr_adj = adj_df.reindex(index=right_node_ids, columns=right_node_ids).values\n",
    "lr_adj = adj_df.reindex(index=left_node_ids, columns=right_node_ids).values\n",
    "rl_adj = adj_df.reindex(index=right_node_ids, columns=left_node_ids).values\n",
    "\n",
    "n_left = len(left_node_ids)\n",
    "n_right = len(right_node_ids)\n",
    "\n",
    "glue(\"n_left\", n_left)\n",
    "glue(\"n_right\", n_right)"
   ]
  },
  {
   "cell_type": "code",
   "execution_count": null,
   "id": "d47726d0",
   "metadata": {
    "lines_to_next_cell": 0,
    "tags": [
     "hide-input"
    ]
   },
   "outputs": [],
   "source": [
    "\n",
    "\n",
    "def select_seeds(left_nodes, right_nodes, pairs=\"all\"):\n",
    "    left_nodes = left_nodes.copy()\n",
    "    right_nodes = right_nodes.copy()\n",
    "    left_nodes.index.name = \"node_id\"\n",
    "    right_nodes.index.name = \"node_id\"\n",
    "    left_nodes[\"pos_index\"] = range(len(left_nodes))\n",
    "    right_nodes[\"pos_index\"] = range(len(right_nodes))\n",
    "\n",
    "    left_paired_nodes = left_nodes[~left_nodes[\"pair\"].isna()].copy()\n",
    "    right_paired_nodes = right_nodes[~right_nodes[\"pair\"].isna()].copy()\n",
    "    if pairs == \"all\":\n",
    "        pairs = np.intersect1d(\n",
    "            left_paired_nodes[\"pair\"],\n",
    "            right_paired_nodes[\"pair\"],\n",
    "        )\n",
    "\n",
    "    left_paired_nodes = left_paired_nodes.reset_index().set_index(\"pair\")\n",
    "    right_paired_nodes = right_paired_nodes.reset_index().set_index(\"pair\")\n",
    "\n",
    "    left_inds = left_paired_nodes.loc[pairs, \"pos_index\"]\n",
    "    right_inds = right_paired_nodes.loc[pairs, \"pos_index\"]\n",
    "    seeds = np.column_stack((left_inds, right_inds))\n",
    "    return seeds\n",
    "\n",
    "\n",
    "all_seeds = select_seeds(left_nodes, right_nodes)\n",
    "\n",
    "indices = np.arange(len(all_seeds))\n",
    "n_seeds_range = [0, 100, 200, 300, 400]\n",
    "\n",
    "n_folds = 10\n",
    "glue(\"n_folds\", n_folds)\n",
    "\n",
    "rerun = True\n",
    "if rerun:\n",
    "    rows = []\n",
    "    kfold = KFold(\n",
    "        n_splits=n_folds,\n",
    "        shuffle=True,\n",
    "        random_state=rng.integers(np.iinfo(np.uint32).max),\n",
    "    )\n",
    "\n",
    "    pbar = tqdm(total=n_folds * len(n_seeds_range) * 2)\n",
    "    for fold, (indices_train, indices_test) in enumerate(kfold.split(indices)):\n",
    "\n",
    "        test_seeds = all_seeds[indices_test]\n",
    "        left_nodes_to_check = left_nodes.iloc[test_seeds[:, 0]].index\n",
    "\n",
    "        rng.shuffle(indices_train)\n",
    "\n",
    "        for n_seeds in n_seeds_range:\n",
    "            selected_seeds = all_seeds[indices_train[:n_seeds]]\n",
    "\n",
    "            for method in [\"GM\", \"BGM\"]:\n",
    "                if method == \"GM\":\n",
    "                    AB = None\n",
    "                    BA = None\n",
    "                else:\n",
    "                    AB = lr_adj\n",
    "                    BA = rl_adj\n",
    "                indices_A, indices_B, score, misc = graph_match(\n",
    "                    ll_adj,\n",
    "                    rr_adj,\n",
    "                    AB=AB,\n",
    "                    BA=BA,\n",
    "                    rng=rng,\n",
    "                    n_init=1,\n",
    "                    partial_match=selected_seeds,\n",
    "                )\n",
    "\n",
    "                left_nodes_sorted = left_nodes.iloc[indices_A]\n",
    "                right_nodes_sorted = right_nodes.iloc[indices_B]\n",
    "\n",
    "                correct = 0\n",
    "                for left_node in left_nodes_to_check:\n",
    "                    if left_node in left_nodes_sorted.index:\n",
    "                        iloc = left_nodes_sorted.index.get_loc(left_node)\n",
    "                        check = (\n",
    "                            left_nodes_sorted.iloc[iloc][\"pair\"]\n",
    "                            == right_nodes_sorted.iloc[iloc][\"pair\"]\n",
    "                        )\n",
    "                        if isinstance(check, np.bool_) and check:\n",
    "                            correct += 1\n",
    "                match_ratio_heldout = correct / len(indices_test)\n",
    "                rows.append(\n",
    "                    {\n",
    "                        \"match_ratio\": match_ratio_heldout,\n",
    "                        \"n_seeds\": n_seeds,\n",
    "                        \"method\": method,\n",
    "                        \"fold\": fold,\n",
    "                    }\n",
    "                )\n",
    "                pbar.update(1)\n",
    "\n",
    "    results = pd.DataFrame(rows)\n",
    "    results.to_csv(OUT_PATH / \"matching_results.csv\")\n",
    "else:\n",
    "    results = pd.read_csv(OUT_PATH / \"matching_results.csv\", index_col=0)"
   ]
  },
  {
   "cell_type": "code",
   "execution_count": null,
   "id": "8cd1b005",
   "metadata": {
    "tags": [
     "hide-input"
    ]
   },
   "outputs": [],
   "source": [
    "\n",
    "fig, ax = plt.subplots(1, 1, figsize=(8, 6))\n",
    "sns.lineplot(\n",
    "    data=results,\n",
    "    x=\"n_seeds\",\n",
    "    y=\"match_ratio\",\n",
    "    hue=\"method\",\n",
    "    palette=method_palette,\n",
    "    style=\"method\",\n",
    "    dashes=dashes,\n",
    ")\n",
    "sns.move_legend(ax, loc=\"lower right\", title=\"Method\")\n",
    "ax.set(ylabel=\"Matching accuracy\", xlabel=\"Number of seeds\", xticks=n_seeds_range)\n",
    "gluefig(\"accuracy_by_seeds\", fig)"
   ]
  },
  {
   "cell_type": "code",
   "execution_count": null,
   "id": "c7556a21",
   "metadata": {
    "tags": [
     "hide-input"
    ]
   },
   "outputs": [],
   "source": [
    "\n",
    "stat_rows = []\n",
    "for n_seeds, seed_results in results.groupby(\"n_seeds\"):\n",
    "    ratios = []\n",
    "    for method, method_results in seed_results.groupby(\"method\"):\n",
    "        ratios.append(method_results[\"match_ratio\"])\n",
    "\n",
    "    # believe this should be wilcoxon, paired across folds\n",
    "    stat, pvalue = wilcoxon(*ratios)\n",
    "    # stat, pvalue = mannwhitneyu(*ratios)\n",
    "\n",
    "    stat_rows.append({\"n_seeds\": n_seeds, \"pvalue\": pvalue, \"stat\": stat})\n",
    "stat_results = pd.DataFrame(stat_rows)\n",
    "stat_results.to_csv(OUT_PATH / \"seeded_stat_results\")\n",
    "stat_results"
   ]
  },
  {
   "cell_type": "code",
   "execution_count": null,
   "id": "7ef22084",
   "metadata": {
    "tags": [
     "hide-input"
    ]
   },
   "outputs": [],
   "source": [
    "n_init = 100\n",
    "glue(\"full_seed_n_init\", n_init)\n",
    "\n",
    "rng = np.random.default_rng(9999)\n",
    "\n",
    "rerun = True\n",
    "if rerun:\n",
    "    match_probs = np.zeros((ll_adj.shape[0], rr_adj.shape[0]))\n",
    "    for i in tqdm(range(n_init)):\n",
    "        indices_A, indices_B, score, misc = graph_match(\n",
    "            ll_adj,\n",
    "            rr_adj,\n",
    "            AB=lr_adj,\n",
    "            BA=rl_adj,\n",
    "            rng=rng,\n",
    "            n_init=1,\n",
    "            partial_match=all_seeds,\n",
    "        )\n",
    "        match_probs[indices_A, indices_B] += 1 / n_init\n",
    "\n",
    "    match_probs_df = pd.DataFrame(\n",
    "        data=match_probs, index=left_node_ids, columns=right_node_ids\n",
    "    )\n",
    "    match_probs_df.to_csv(OUT_PATH / \"match_probs.csv\")\n",
    "else:\n",
    "    match_probs_df = pd.read_csv(OUT_PATH / \"match_probs.csv\", index_col=0)"
   ]
  },
  {
   "cell_type": "code",
   "execution_count": null,
   "id": "b25f279e",
   "metadata": {
    "tags": [
     "hide-input"
    ]
   },
   "outputs": [],
   "source": [
    "\n",
    "# from the full set of matching probabilities, get the most likely for each\n",
    "indices_A, indices_B = linear_sum_assignment(match_probs, maximize=True)\n",
    "# these are the matching probabilities for the final matches (if we have to choose one)\n",
    "p_matched = match_probs[indices_A, indices_B]\n",
    "\n",
    "# resort data accordingly\n",
    "left_nodes_sorted = left_nodes.iloc[indices_A].copy()\n",
    "right_nodes_sorted = right_nodes.iloc[indices_B].copy()\n",
    "left_nodes_sorted[\"p_matched\"] = p_matched\n",
    "\n",
    "# sanity check - this should always be 1\n",
    "equal_pairs = left_nodes_sorted[\"pair\"].values == right_nodes_sorted[\"pair\"].values\n",
    "real_pairs = (~left_nodes_sorted[\"pair\"].isna().values) & (\n",
    "    ~right_nodes_sorted[\"pair\"].isna().values\n",
    ")\n",
    "match_ratio = np.mean(equal_pairs[real_pairs])\n",
    "print(f\"Match ratio = {match_ratio}\")"
   ]
  },
  {
   "cell_type": "code",
   "execution_count": null,
   "id": "2b29b213",
   "metadata": {
    "tags": [
     "hide-input"
    ]
   },
   "outputs": [],
   "source": [
    "# sub select the new pairs only (not seeds)\n",
    "new_pairs = (\n",
    "    left_nodes_sorted[\"pair\"].isna().values & right_nodes_sorted[\"pair\"].isna().values\n",
    ")\n",
    "\n",
    "# make a dataframe for the new matches\n",
    "new_left_nodes = left_nodes_sorted.loc[new_pairs].copy()\n",
    "new_left_nodes.index.name = \"skid_left\"\n",
    "new_right_nodes = right_nodes_sorted.loc[new_pairs].copy()\n",
    "new_right_nodes.index.name = \"skid_right\"\n",
    "\n",
    "pair_df = pd.concat(\n",
    "    (\n",
    "        new_left_nodes.index.to_series().reset_index(drop=True),\n",
    "        new_right_nodes.index.to_series().reset_index(drop=True),\n",
    "        new_left_nodes[\"p_matched\"].reset_index(drop=True),\n",
    "    ),\n",
    "    axis=1,\n",
    ")\n",
    "# remove anything that never actually got matched (not equal sized graphs)\n",
    "pair_df = pair_df[pair_df[\"p_matched\"] > 0]"
   ]
  },
  {
   "cell_type": "code",
   "execution_count": null,
   "id": "bee293cb",
   "metadata": {
    "tags": [
     "hide-input"
    ]
   },
   "outputs": [],
   "source": [
    "# plot the distribution of matching probabilities\n",
    "fig, ax = plt.subplots(1, 1, figsize=(8, 6))\n",
    "sns.histplot(data=pair_df, x=\"p_matched\")"
   ]
  },
  {
   "cell_type": "code",
   "execution_count": null,
   "id": "5f502b4e",
   "metadata": {
    "tags": [
     "hide-input"
    ]
   },
   "outputs": [],
   "source": [
    "\n",
    "\n",
    "def draw_box(ax, color=\"black\"):\n",
    "    # REF: https://github.com/matplotlib/matplotlib/blob/81e955935a26dae7048758f7b3dc3f1dc4c5de6c/lib/matplotlib/axes/_axes.py#L749\n",
    "    xtrans = ax.get_xaxis_transform(which=\"grid\")\n",
    "    ytrans = ax.get_yaxis_transform(which=\"grid\")\n",
    "    xmin = -0.095\n",
    "    xmax = 0.09\n",
    "    ymin = -0.095\n",
    "    ymax = 0.09\n",
    "    trans = blended_transform_factory(xtrans, ytrans)\n",
    "    kwargs = dict(transform=trans, clip_on=False, color=color)\n",
    "    line = Line2D([xmin, xmin], [ymin, ymax], **kwargs)\n",
    "    ax.add_line(line)\n",
    "    line = Line2D([xmax, xmax], [ymin, ymax], **kwargs)\n",
    "    ax.add_line(line)\n",
    "    line = Line2D([xmin, xmax], [ymin, ymin], **kwargs)\n",
    "    ax.add_line(line)\n",
    "    line = Line2D([xmin, xmax], [ymax, ymax], **kwargs)\n",
    "    ax.add_line(line)\n",
    "\n",
    "\n",
    "def plot_paired_neurons(left_ids, right_ids):\n",
    "    n_show = len(left_ids)\n",
    "    n_cols = n_show\n",
    "    n_rows = 3\n",
    "    views = (dict(elev=-90, azim=90), dict(elev=0, azim=0), dict(elev=45, azim=45))\n",
    "    fig = plt.figure(figsize=(2 * n_cols, 2 * n_rows), constrained_layout=True)\n",
    "    gs = plt.GridSpec(n_rows, n_cols, figure=fig, hspace=0, wspace=0)\n",
    "    colors = [subgraph_palette[\"LL\"], subgraph_palette[\"RR\"]]\n",
    "    colors = [rgb2hex(*color) for color in colors]\n",
    "    axs = np.empty((n_rows, n_cols), dtype=\"object\")\n",
    "    for j, (left_id, right_id) in enumerate(zip(left_ids, right_ids)):\n",
    "        neurons = [left_id, right_id]\n",
    "        palette = dict(zip(neurons, colors))\n",
    "        for i, view in enumerate(views):\n",
    "            ax = fig.add_subplot(gs[(i, j)], projection=\"3d\")\n",
    "            axs[(i, j)] = ax\n",
    "            simple_plot_neurons(\n",
    "                neurons,\n",
    "                palette=palette,\n",
    "                ax=ax,\n",
    "                force_bounds=False,\n",
    "                autoscale=True,\n",
    "                soma=False,\n",
    "                dist=3,\n",
    "                lw=1.5,\n",
    "                **view,\n",
    "            )\n",
    "            draw_box(ax, color=\"lightgrey\")\n",
    "    return fig, axs"
   ]
  },
  {
   "cell_type": "code",
   "execution_count": null,
   "id": "f91aed2b",
   "metadata": {
    "lines_to_next_cell": 0,
    "tags": [
     "hide-input"
    ]
   },
   "outputs": [],
   "source": [
    "# morphologies for some good matches\n",
    "n_show = 7\n",
    "best_pair_df = pair_df[pair_df[\"p_matched\"] == 1].sample(\n",
    "    n=n_show, replace=False, random_state=rng\n",
    ")\n",
    "\n",
    "fig, ax = plot_paired_neurons(best_pair_df[\"skid_left\"], best_pair_df[\"skid_right\"])\n",
    "\n",
    "gluefig(\"example_matched_morphologies_good\", fig)"
   ]
  },
  {
   "cell_type": "code",
   "execution_count": null,
   "id": "89796f20",
   "metadata": {
    "tags": [
     "hide-input"
    ]
   },
   "outputs": [],
   "source": [
    "# morphologies for some bad matches\n",
    "worst_pair_df = pair_df.sort_values(\"p_matched\").iloc[:n_show]\n",
    "\n",
    "fig, ax = plot_paired_neurons(worst_pair_df[\"skid_left\"], worst_pair_df[\"skid_right\"])\n",
    "\n",
    "gluefig(\"example_matched_morphologies_bad\", fig)"
   ]
  },
  {
   "cell_type": "code",
   "execution_count": null,
   "id": "5fe7e2f8",
   "metadata": {
    "tags": [
     "hide-input"
    ]
   },
   "outputs": [],
   "source": [
    "elapsed = time.time() - t0\n",
    "delta = datetime.timedelta(seconds=elapsed)\n",
    "print(f\"Script took {delta}\")\n",
    "print(f\"Completed at {datetime.datetime.now()}\")"
   ]
  }
 ],
 "metadata": {
  "jupytext": {
   "cell_metadata_filter": "-all",
   "main_language": "python",
   "notebook_metadata_filter": "-all"
  }
 },
 "nbformat": 4,
 "nbformat_minor": 5
}
