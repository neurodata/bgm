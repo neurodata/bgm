{
 "cells": [
  {
   "cell_type": "markdown",
   "id": "d388da59",
   "metadata": {
    "lines_to_next_cell": 0
   },
   "source": [
    "# Maggot connectome subset"
   ]
  },
  {
   "cell_type": "code",
   "execution_count": 1,
   "id": "bfdb9123",
   "metadata": {
    "execution": {
     "iopub.execute_input": "2022-05-13T17:23:14.139263Z",
     "iopub.status.busy": "2022-05-13T17:23:14.138893Z",
     "iopub.status.idle": "2022-05-13T17:23:20.636128Z",
     "shell.execute_reply": "2022-05-13T17:23:20.635521Z"
    },
    "lines_to_next_cell": 2,
    "tags": [
     "hide-input"
    ]
   },
   "outputs": [],
   "source": [
    "import datetime\n",
    "import logging\n",
    "import time\n",
    "\n",
    "import matplotlib.pyplot as plt\n",
    "import networkx as nx\n",
    "import numpy as np\n",
    "import pandas as pd\n",
    "import pymaid\n",
    "import seaborn as sns\n",
    "from pkg.data import DATA_PATH\n",
    "from pkg.io import glue as default_glue\n",
    "from pkg.io import savefig\n",
    "from pkg.plot import set_theme\n",
    "from pkg.utils import ensure_connected, select_lateral_nodes\n",
    "\n",
    "FILENAME = \"process_maggot\"\n",
    "\n",
    "DISPLAY_FIGS = True\n",
    "\n",
    "OUT_PATH = DATA_PATH / \"processed_split\"\n",
    "\n",
    "\n",
    "def glue(name, var, **kwargs):\n",
    "    default_glue(name, var, FILENAME, **kwargs)\n",
    "\n",
    "\n",
    "def gluefig(name, fig, **kwargs):\n",
    "    savefig(name, foldername=FILENAME, **kwargs)\n",
    "\n",
    "    glue(name, fig, figure=True)\n",
    "\n",
    "    if not DISPLAY_FIGS:\n",
    "        plt.close()\n",
    "\n",
    "\n",
    "t0 = time.time()\n",
    "set_theme()\n",
    "rng = np.random.default_rng(8888)"
   ]
  },
  {
   "cell_type": "markdown",
   "id": "7d3868f9",
   "metadata": {
    "lines_to_next_cell": 0
   },
   "source": [
    "## Start Catmaid instance on Virtual Fly Brain"
   ]
  },
  {
   "cell_type": "code",
   "execution_count": 2,
   "id": "cad23b92",
   "metadata": {
    "execution": {
     "iopub.execute_input": "2022-05-13T17:23:20.639416Z",
     "iopub.status.busy": "2022-05-13T17:23:20.639202Z",
     "iopub.status.idle": "2022-05-13T17:23:21.083298Z",
     "shell.execute_reply": "2022-05-13T17:23:21.082671Z"
    },
    "tags": [
     "hide-input"
    ]
   },
   "outputs": [
    {
     "name": "stderr",
     "output_type": "stream",
     "text": [
      "INFO  : Global CATMAID instance set. Caching is ON. (pymaid)\n"
     ]
    }
   ],
   "source": [
    "\n",
    "pymaid.CatmaidInstance(\"https://l1em.catmaid.virtualflybrain.org/\", None)\n",
    "logging.getLogger(\"pymaid\").setLevel(logging.WARNING)\n",
    "pymaid.clear_cache()"
   ]
  },
  {
   "cell_type": "markdown",
   "id": "2507e7c6",
   "metadata": {
    "lines_to_next_cell": 0
   },
   "source": [
    "## Load the \"papers\" meta-annotation"
   ]
  },
  {
   "cell_type": "code",
   "execution_count": 3,
   "id": "5ef54fa8",
   "metadata": {
    "execution": {
     "iopub.execute_input": "2022-05-13T17:23:21.086062Z",
     "iopub.status.busy": "2022-05-13T17:23:21.085885Z",
     "iopub.status.idle": "2022-05-13T17:23:27.678541Z",
     "shell.execute_reply": "2022-05-13T17:23:27.677991Z"
    },
    "tags": [
     "hide-input"
    ]
   },
   "outputs": [
    {
     "name": "stdout",
     "output_type": "stream",
     "text": [
      "Zwart et al. 2016\n",
      "Berck, Khandelwal et al. 2016\n",
      "Eichler, Li, Litwin-Kumar et al. 2017\n",
      "Larderet, Fritsch et al. 2017\n",
      "Ohyama, Schneider-Mizell et al. 2015\n",
      "Jovanic, Schneider-Mizell et al. 2016\n",
      "Schlegel et al. 2016\n",
      "Fushiki et al. 2016\n",
      "Takagi et al. 2017\n",
      "Heckscher et al. 2015\n",
      "Gerhard et al. 2017\n",
      "Burgos et al 2018\n",
      "Miroschnikow et al. 2018\n",
      "Jovanic et al. 2019\n",
      "Carreira-Rosario, Arzan Zarin, Clark et al. 2018\n",
      "Zarin, Mark et al. 2019\n",
      "Mark et al. 2019\n",
      "Andrade et al. 2019\n",
      "Tastekin et al. 2018\n",
      "Eschbach, Fushiki et al. 2020\n",
      "Eschbach, Fushiki et al. 2020b\n",
      "Hueckesfeld et al. 2020\n",
      "Valdes-Aleman et al. 2021\n"
     ]
    }
   ],
   "source": [
    "\n",
    "\n",
    "def get_indicator_from_annotation(annot_name, filt=None):\n",
    "    ids = pymaid.get_skids_by_annotation(annot_name.replace(\"*\", \"\\*\"))\n",
    "    if filt is not None:\n",
    "        name = filt(annot_name)\n",
    "    else:\n",
    "        name = annot_name\n",
    "    indicator = pd.Series(\n",
    "        index=ids, data=np.ones(len(ids), dtype=bool), name=name, dtype=bool\n",
    "    )\n",
    "    return indicator\n",
    "\n",
    "\n",
    "annot_df = pymaid.get_annotated(\"papers\")\n",
    "series_ids = []\n",
    "\n",
    "for annot_name in annot_df[\"name\"]:\n",
    "    print(annot_name)\n",
    "    indicator = get_indicator_from_annotation(annot_name)\n",
    "    if annot_name == \"Imambocus et al\":\n",
    "        indicator.name = \"Imambocus et al. 2022\"\n",
    "    series_ids.append(indicator)\n",
    "annotations = pd.concat(series_ids, axis=1, ignore_index=False).fillna(False)"
   ]
  },
  {
   "cell_type": "markdown",
   "id": "588293f8",
   "metadata": {
    "lines_to_next_cell": 0
   },
   "source": [
    "## Get the pairings\n",
    "This section is not meant to be rerun - it was used to get the subset of pairs from\n",
    "a forthcoming paper (Winding, Pedigo et al. 2022) which were previously published."
   ]
  },
  {
   "cell_type": "code",
   "execution_count": 4,
   "id": "395254a9",
   "metadata": {
    "execution": {
     "iopub.execute_input": "2022-05-13T17:23:27.681324Z",
     "iopub.status.busy": "2022-05-13T17:23:27.681148Z",
     "iopub.status.idle": "2022-05-13T17:23:27.726694Z",
     "shell.execute_reply": "2022-05-13T17:23:27.726146Z"
    },
    "tags": [
     "hide-input"
    ]
   },
   "outputs": [],
   "source": [
    "\n",
    "# # TEMP: code to subset the pairs, not to be run again\n",
    "# pairs = pd.read_csv(\"bgm/data/maggot/pairs-2021-04-06.csv\")\n",
    "\n",
    "# nodes = []\n",
    "# pair_id_counter = 0\n",
    "# for _, row in pairs.iterrows():\n",
    "#     if (row[\"leftid\"] in annotations.index) and (row[\"rightid\"] in annotations.index):\n",
    "#         nodes.append(\n",
    "#             {\"node_id\": row[\"leftid\"], \"pair\": pair_id_counter, \"hemisphere\": \"L\"}\n",
    "#         )\n",
    "#         nodes.append(\n",
    "#             {\"node_id\": row[\"rightid\"], \"pair\": pair_id_counter, \"hemisphere\": \"R\"}\n",
    "#         )\n",
    "#         pair_id_counter += 1\n",
    "\n",
    "# nodes = pd.DataFrame(nodes)\n",
    "# counts = nodes[\"node_id\"].value_counts()\n",
    "# duplicates = counts[counts > 1].index\n",
    "# nodes = nodes.set_index(\"node_id\")\n",
    "# bad_pairs = nodes.loc[duplicates, \"pair\"]\n",
    "# nodes = nodes[~nodes[\"pair\"].isin(bad_pairs)]\n",
    "\n",
    "# nodes.sort_values([\"hemisphere\", \"pair\"], inplace=True)\n",
    "# nodes.to_csv(\"bgm/data/maggot/nodes.csv\")"
   ]
  },
  {
   "cell_type": "markdown",
   "id": "b92cf933",
   "metadata": {
    "lines_to_next_cell": 0
   },
   "source": [
    "## Load the pair data\n",
    "Saved locally, these are just published neurons"
   ]
  },
  {
   "cell_type": "code",
   "execution_count": 5,
   "id": "176b3eaf",
   "metadata": {
    "execution": {
     "iopub.execute_input": "2022-05-13T17:23:27.729747Z",
     "iopub.status.busy": "2022-05-13T17:23:27.729513Z",
     "iopub.status.idle": "2022-05-13T17:23:27.783400Z",
     "shell.execute_reply": "2022-05-13T17:23:27.782879Z"
    },
    "tags": [
     "hide-input"
    ]
   },
   "outputs": [],
   "source": [
    "\n",
    "raw_path = DATA_PATH / \"maggot\"\n",
    "\n",
    "nodes = pd.read_csv(raw_path / \"nodes.csv\", index_col=0)"
   ]
  },
  {
   "cell_type": "markdown",
   "id": "b06ea92f",
   "metadata": {
    "lines_to_next_cell": 0
   },
   "source": [
    "## Load their connectivity data"
   ]
  },
  {
   "cell_type": "code",
   "execution_count": 6,
   "id": "6513b500",
   "metadata": {
    "execution": {
     "iopub.execute_input": "2022-05-13T17:23:27.786305Z",
     "iopub.status.busy": "2022-05-13T17:23:27.786106Z",
     "iopub.status.idle": "2022-05-13T17:23:29.887224Z",
     "shell.execute_reply": "2022-05-13T17:23:29.886691Z"
    },
    "tags": [
     "hide-input"
    ]
   },
   "outputs": [],
   "source": [
    "\n",
    "adj_df = pymaid.adjacency_matrix(nodes.index.values)\n",
    "adj_df = pd.DataFrame(\n",
    "    data=adj_df.values.astype(int), index=adj_df.index, columns=adj_df.columns\n",
    ")"
   ]
  },
  {
   "cell_type": "markdown",
   "id": "de1a3fcd",
   "metadata": {
    "lines_to_next_cell": 0
   },
   "source": [
    "## Filter data\n",
    "Make sure neurons are lateralized and fully connected"
   ]
  },
  {
   "cell_type": "code",
   "execution_count": 7,
   "id": "f53c82be",
   "metadata": {
    "execution": {
     "iopub.execute_input": "2022-05-13T17:23:29.890498Z",
     "iopub.status.busy": "2022-05-13T17:23:29.890272Z",
     "iopub.status.idle": "2022-05-13T17:23:30.089488Z",
     "shell.execute_reply": "2022-05-13T17:23:30.088907Z"
    },
    "tags": [
     "hide-input"
    ]
   },
   "outputs": [],
   "source": [
    "\n",
    "adj_df, nodes, removed_nonlateral = select_lateral_nodes(adj_df, nodes)\n",
    "# then ensure the network is fully connected\n",
    "adj_df, nodes, removed_lcc = ensure_connected(adj_df, nodes)\n",
    "# then remove any nodes whose partner got removed by that process\n",
    "adj_df, nodes, removed_partner_lcc = select_lateral_nodes(adj_df, nodes)\n",
    "# REPEAT in case this removal of partners causes disconnection\n",
    "adj_df, nodes, removed_lcc2 = ensure_connected(adj_df, nodes)\n",
    "adj_df, nodes, removed_partner_lcc2 = select_lateral_nodes(adj_df, nodes)"
   ]
  },
  {
   "cell_type": "markdown",
   "id": "f96cc6fa",
   "metadata": {
    "lines_to_next_cell": 0
   },
   "source": [
    "## Compute some simple statistics"
   ]
  },
  {
   "cell_type": "code",
   "execution_count": 8,
   "id": "e2b51df5",
   "metadata": {
    "execution": {
     "iopub.execute_input": "2022-05-13T17:23:30.092644Z",
     "iopub.status.busy": "2022-05-13T17:23:30.092441Z",
     "iopub.status.idle": "2022-05-13T17:23:30.166459Z",
     "shell.execute_reply": "2022-05-13T17:23:30.165772Z"
    },
    "tags": [
     "hide-input"
    ]
   },
   "outputs": [
    {
     "data": {
      "application/papermill.record/text/plain": "0.3497420464316423"
     },
     "metadata": {
      "scrapbook": {
       "mime_prefix": "application/papermill.record/",
       "name": "process_maggot-p_contra"
      }
     },
     "output_type": "display_data"
    },
    {
     "data": {
      "application/papermill.record/text/plain": "'35'"
     },
     "metadata": {
      "scrapbook": {
       "mime_prefix": "application/papermill.record/",
       "name": "process_maggot-p_contra-formatted"
      }
     },
     "output_type": "display_data"
    },
    {
     "name": "stdout",
     "output_type": "stream",
     "text": [
      "Probability of an edge being a contralateral: 0.35\n"
     ]
    }
   ],
   "source": [
    "left_index = nodes[nodes[\"hemisphere\"] == \"L\"].index\n",
    "right_index = nodes[nodes[\"hemisphere\"] == \"R\"].index\n",
    "\n",
    "m_ll = np.count_nonzero(adj_df.loc[left_index, left_index])\n",
    "m_rr = np.count_nonzero(adj_df.loc[right_index, right_index])\n",
    "m_lr = np.count_nonzero(adj_df.loc[left_index, right_index])\n",
    "m_rl = np.count_nonzero(adj_df.loc[right_index, left_index])\n",
    "\n",
    "m_contra = m_lr + m_rl\n",
    "m_ipsi = m_ll + m_rr\n",
    "p_contra = m_contra / (m_ipsi + m_contra)\n",
    "glue(\"p_contra\", p_contra, form=\"2.0f%\")\n",
    "print(f\"Probability of an edge being a contralateral: {p_contra:.2f}\")"
   ]
  },
  {
   "cell_type": "markdown",
   "id": "caedbabe",
   "metadata": {
    "lines_to_next_cell": 0
   },
   "source": [
    "## Examine annotations of the neurons used here"
   ]
  },
  {
   "cell_type": "code",
   "execution_count": 9,
   "id": "971a5b23",
   "metadata": {
    "execution": {
     "iopub.execute_input": "2022-05-13T17:23:30.169281Z",
     "iopub.status.busy": "2022-05-13T17:23:30.169095Z",
     "iopub.status.idle": "2022-05-13T17:23:30.229695Z",
     "shell.execute_reply": "2022-05-13T17:23:30.229114Z"
    },
    "tags": [
     "hide-input"
    ]
   },
   "outputs": [],
   "source": [
    "\n",
    "annotations_year = [s.split(\" \")[-1] for s in annotations.columns]\n",
    "annotations_year = pd.Series(data=annotations_year, index=annotations.columns)\n",
    "annotations_year = annotations_year.sort_index()\n",
    "annotations_year = annotations_year.sort_values(kind=\"stable\")\n",
    "annotations = annotations.loc[nodes.index]\n",
    "annotations = annotations.reindex(columns=annotations_year.index)\n",
    "annotations = annotations.sort_values(list(annotations.columns), ascending=False)"
   ]
  },
  {
   "cell_type": "markdown",
   "id": "dad10d45",
   "metadata": {
    "lines_to_next_cell": 0
   },
   "source": [
    "### Examples of neurons published on twice in the same year"
   ]
  },
  {
   "cell_type": "code",
   "execution_count": 10,
   "id": "8ca14c79",
   "metadata": {
    "execution": {
     "iopub.execute_input": "2022-05-13T17:23:30.232927Z",
     "iopub.status.busy": "2022-05-13T17:23:30.232705Z",
     "iopub.status.idle": "2022-05-13T17:23:30.345558Z",
     "shell.execute_reply": "2022-05-13T17:23:30.345083Z"
    },
    "tags": [
     "hide-input"
    ]
   },
   "outputs": [
    {
     "name": "stdout",
     "output_type": "stream",
     "text": [
      "4123145\n",
      "Mark et al. 2019           2019\n",
      "Zarin, Mark et al. 2019    2019\n",
      "dtype: object\n",
      "\n",
      "11106522\n",
      "Mark et al. 2019           2019\n",
      "Zarin, Mark et al. 2019    2019\n",
      "dtype: object\n",
      "\n",
      "6578062\n",
      "Mark et al. 2019           2019\n",
      "Zarin, Mark et al. 2019    2019\n",
      "dtype: object\n",
      "\n",
      "12820178\n",
      "Mark et al. 2019           2019\n",
      "Zarin, Mark et al. 2019    2019\n",
      "dtype: object\n",
      "\n",
      "2798040\n",
      "Mark et al. 2019           2019\n",
      "Zarin, Mark et al. 2019    2019\n",
      "dtype: object\n",
      "\n",
      "4542822\n",
      "Mark et al. 2019           2019\n",
      "Zarin, Mark et al. 2019    2019\n",
      "dtype: object\n",
      "\n",
      "10858401\n",
      "Mark et al. 2019           2019\n",
      "Zarin, Mark et al. 2019    2019\n",
      "dtype: object\n",
      "\n",
      "12809976\n",
      "Mark et al. 2019           2019\n",
      "Zarin, Mark et al. 2019    2019\n",
      "dtype: object\n",
      "\n",
      "4386719\n",
      "Mark et al. 2019           2019\n",
      "Zarin, Mark et al. 2019    2019\n",
      "dtype: object\n",
      "\n",
      "6570401\n",
      "Mark et al. 2019           2019\n",
      "Zarin, Mark et al. 2019    2019\n",
      "dtype: object\n",
      "\n",
      "16848475\n",
      "Eschbach, Fushiki et al. 2020    2020\n",
      "Hueckesfeld et al. 2020          2020\n",
      "dtype: object\n",
      "\n",
      "17176866\n",
      "Eschbach, Fushiki et al. 2020    2020\n",
      "Hueckesfeld et al. 2020          2020\n",
      "dtype: object\n",
      "\n",
      "9841469\n",
      "Eschbach, Fushiki et al. 2020    2020\n",
      "Hueckesfeld et al. 2020          2020\n",
      "dtype: object\n",
      "\n",
      "11637003\n",
      "Eschbach, Fushiki et al. 2020    2020\n",
      "Hueckesfeld et al. 2020          2020\n",
      "dtype: object\n",
      "\n",
      "17980792\n",
      "Eschbach, Fushiki et al. 2020    2020\n",
      "Hueckesfeld et al. 2020          2020\n",
      "dtype: object\n",
      "\n",
      "17176882\n",
      "Eschbach, Fushiki et al. 2020    2020\n",
      "Hueckesfeld et al. 2020          2020\n",
      "dtype: object\n",
      "\n"
     ]
    }
   ],
   "source": [
    "n_pubs = annotations.sum(axis=1)\n",
    "multi_pub_annotations = annotations[n_pubs > 1]\n",
    "\n",
    "for idx, row in multi_pub_annotations.iterrows():\n",
    "    years = annotations_year[row].values\n",
    "\n",
    "    if (years == years.min()).all():\n",
    "        print(idx)\n",
    "        print(annotations_year[row])\n",
    "        print()"
   ]
  },
  {
   "cell_type": "markdown",
   "id": "f712c5d6",
   "metadata": {
    "lines_to_next_cell": 0
   },
   "source": [
    "### Get all papers for which one of our neurons was published for the first time"
   ]
  },
  {
   "cell_type": "code",
   "execution_count": 11,
   "id": "3594b24c",
   "metadata": {
    "execution": {
     "iopub.execute_input": "2022-05-13T17:23:30.348128Z",
     "iopub.status.busy": "2022-05-13T17:23:30.347964Z",
     "iopub.status.idle": "2022-05-13T17:23:30.391630Z",
     "shell.execute_reply": "2022-05-13T17:23:30.391090Z"
    },
    "tags": [
     "hide-input"
    ]
   },
   "outputs": [
    {
     "name": "stdout",
     "output_type": "stream",
     "text": [
      "Used papers:\n",
      "Heckscher et al. 2015\n",
      "Ohyama, Schneider-Mizell et al. 2015\n",
      "Berck, Khandelwal et al. 2016\n",
      "Fushiki et al. 2016\n",
      "Jovanic, Schneider-Mizell et al. 2016\n",
      "Schlegel et al. 2016\n",
      "Zwart et al. 2016\n",
      "Eichler, Li, Litwin-Kumar et al. 2017\n",
      "Gerhard et al. 2017\n",
      "Larderet, Fritsch et al. 2017\n",
      "Takagi et al. 2017\n",
      "Burgos et al 2018\n",
      "Carreira-Rosario, Arzan Zarin, Clark et al. 2018\n",
      "Miroschnikow et al. 2018\n",
      "Tastekin et al. 2018\n",
      "Jovanic et al. 2019\n",
      "Mark et al. 2019\n",
      "Zarin, Mark et al. 2019\n",
      "Eschbach, Fushiki et al. 2020\n",
      "Hueckesfeld et al. 2020\n",
      "Eschbach, Fushiki et al. 2020b\n"
     ]
    }
   ],
   "source": [
    "first_locs = np.argmax(annotations.values, axis=1)\n",
    "first_published = annotations.columns[first_locs]\n",
    "used_papers = first_published.unique()\n",
    "counts = first_published.value_counts()\n",
    "counts.name = \"count\"\n",
    "\n",
    "print(\"Used papers:\")\n",
    "_ = [print(paper) for paper in used_papers]"
   ]
  },
  {
   "cell_type": "markdown",
   "id": "120e93d2",
   "metadata": {
    "lines_to_next_cell": 0
   },
   "source": [
    "### Plot the breakdown of first-published neurons by paper"
   ]
  },
  {
   "cell_type": "code",
   "execution_count": 12,
   "id": "9b075daf",
   "metadata": {
    "execution": {
     "iopub.execute_input": "2022-05-13T17:23:30.394348Z",
     "iopub.status.busy": "2022-05-13T17:23:30.394153Z",
     "iopub.status.idle": "2022-05-13T17:23:30.735961Z",
     "shell.execute_reply": "2022-05-13T17:23:30.735419Z"
    },
    "tags": [
     "hide-input"
    ]
   },
   "outputs": [
    {
     "data": {
      "image/png": "[encoded data removed]",
      "text/plain": [
       "<Figure size 864x432 with 1 Axes>"
      ]
     },
     "metadata": {
      "needs_background": "light"
     },
     "output_type": "display_data"
    }
   ],
   "source": [
    "fig, ax = plt.subplots(1, 1, figsize=(12, 6))\n",
    "sns.barplot(x=counts.index, y=counts, ax=ax)\n",
    "ax.set(ylabel=\"# first published neurons\")\n",
    "_ = plt.setp(\n",
    "    ax.get_xticklabels(),\n",
    "    rotation=45,\n",
    "    ha=\"right\",\n",
    "    va=\"center\",\n",
    "    rotation_mode=\"anchor\",\n",
    ")"
   ]
  },
  {
   "cell_type": "markdown",
   "id": "eb6e2400",
   "metadata": {
    "lines_to_next_cell": 0
   },
   "source": [
    "## Save the finalized network and node metadata"
   ]
  },
  {
   "cell_type": "code",
   "execution_count": 13,
   "id": "d07fe0e8",
   "metadata": {
    "execution": {
     "iopub.execute_input": "2022-05-13T17:23:30.738655Z",
     "iopub.status.busy": "2022-05-13T17:23:30.738476Z",
     "iopub.status.idle": "2022-05-13T17:23:31.019209Z",
     "shell.execute_reply": "2022-05-13T17:23:31.018725Z"
    },
    "tags": [
     "hide-input"
    ]
   },
   "outputs": [],
   "source": [
    "g = nx.from_pandas_adjacency(adj_df, create_using=nx.DiGraph)\n",
    "\n",
    "nx.write_edgelist(\n",
    "    g, OUT_PATH / \"maggot_subset_edgelist.csv\", delimiter=\",\", data=[\"weight\"]\n",
    ")\n",
    "\n",
    "nodes.to_csv(OUT_PATH / \"maggot_subset_nodes.csv\")"
   ]
  },
  {
   "cell_type": "markdown",
   "id": "c0911842",
   "metadata": {
    "lines_to_next_cell": 0
   },
   "source": [
    "## End"
   ]
  },
  {
   "cell_type": "code",
   "execution_count": 14,
   "id": "2a6d602c",
   "metadata": {
    "execution": {
     "iopub.execute_input": "2022-05-13T17:23:31.021948Z",
     "iopub.status.busy": "2022-05-13T17:23:31.021736Z",
     "iopub.status.idle": "2022-05-13T17:23:31.068523Z",
     "shell.execute_reply": "2022-05-13T17:23:31.067985Z"
    },
    "tags": [
     "hide-input"
    ]
   },
   "outputs": [
    {
     "name": "stdout",
     "output_type": "stream",
     "text": [
      "Script took 0:00:10.460662\n",
      "Completed at 2022-05-13 13:23:31.066177\n"
     ]
    }
   ],
   "source": [
    "elapsed = time.time() - t0\n",
    "delta = datetime.timedelta(seconds=elapsed)\n",
    "print(f\"Script took {delta}\")\n",
    "print(f\"Completed at {datetime.datetime.now()}\")"
   ]
  }
 ],
 "metadata": {
  "jupytext": {
   "cell_metadata_filter": "-all",
   "main_language": "python",
   "notebook_metadata_filter": "-all"
  },
  "language_info": {
   "codemirror_mode": {
    "name": "ipython",
    "version": 3
   },
   "file_extension": ".py",
   "mimetype": "text/x-python",
   "name": "python",
   "nbconvert_exporter": "python",
   "pygments_lexer": "ipython3",
   "version": "3.9.7"
  }
 },
 "nbformat": 4,
 "nbformat_minor": 5
}
